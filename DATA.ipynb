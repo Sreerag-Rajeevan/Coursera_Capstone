{
 "cells": [
  {
   "cell_type": "markdown",
   "metadata": {},
   "source": [
    "# THE BATTLE OF NEIGHBORHOODS"
   ]
  },
  {
   "cell_type": "markdown",
   "metadata": {},
   "source": [
    "## DATA"
   ]
  },
  {
   "cell_type": "markdown",
   "metadata": {},
   "source": [
    "#### Dataset URL: https://www.kaggle.com/jboysen/london-crime \n",
    "This dataset contains the crimes statistics of each borough in the city of London. We will extract the data and our first step will be to clean the data for further use.\n",
    "\n",
    "#### Additional dataset URL: https://en.wikipedia.org/wiki/List_of_London_boroughs \n",
    "This dataset contains the latitude and longitude values of the boroughs in London. Again, after extractin and cleanin the data, we will merge the two datasets for further use.\n",
    "\n",
    "#### Libraries that will be used:\n",
    "##### Pandas:\n",
    "   It offers data-structure and tools for effective data manipulation and analysis. \n",
    "##### Folium:\n",
    "   Python visualization library to visualize geospatial data. For creating a map of the neighborhood, using latitude and longitude      values.\n",
    "##### Scikit-Learn:\n",
    "   Machine Learning algorithmic library, used to develop a model and obtain predictions.\n",
    "##### JSON:\n",
    "   To handle JSON files.\n",
    "##### XML:\n",
    "   To separate data from presentation and stores data in plain text format.\n",
    "##### Geocoder:\n",
    "   To retrieve location data.\n",
    "##### Beautiful-Soup and Requests:\n",
    "   To scrap data and to handle http requests.\n",
    "##### Matplotlib:\n",
    "   Python module used for plotting graphs.\n",
    "   \n",
    "#### Foursquare API:\n",
    "We will use Foursquare API as the prime data gathering source as it has a database of millions of places. Their API provides the ability to perform location search, location sharing and details about a b  "
   ]
  },
  {
   "cell_type": "code",
   "execution_count": null,
   "metadata": {},
   "outputs": [],
   "source": []
  }
 ],
 "metadata": {
  "kernelspec": {
   "display_name": "Python",
   "language": "python",
   "name": "conda-env-python-py"
  },
  "language_info": {
   "codemirror_mode": {
    "name": "ipython",
    "version": 3
   },
   "file_extension": ".py",
   "mimetype": "text/x-python",
   "name": "python",
   "nbconvert_exporter": "python",
   "pygments_lexer": "ipython3",
   "version": "3.6.10"
  }
 },
 "nbformat": 4,
 "nbformat_minor": 4
}
