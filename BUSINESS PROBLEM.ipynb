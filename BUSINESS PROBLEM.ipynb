{
 "cells": [
  {
   "cell_type": "markdown",
   "metadata": {},
   "source": [
    "# THE BATTLE OF NEIGHBORHOODS"
   ]
  },
  {
   "cell_type": "markdown",
   "metadata": {},
   "source": [
    "## BUSINESS PROBLEM"
   ]
  },
  {
   "cell_type": "markdown",
   "metadata": {},
   "source": [
    "### INTRODUCTION:"
   ]
  },
  {
   "cell_type": "markdown",
   "metadata": {},
   "source": [
    "People are continiously migrating to various countries. This migration could be due to better career opportunities or could be because they feel safer moving out of their respective countries (especially considering the present senario of Syria). Refugees moving to countries could be a different project in itself, here we will be foucsing on people trying to move to a new neighborhood in the city of London.\n",
    "\n",
    "London is a dream city for everyone. It is the capital and the largest city in England and The United Kingdom. It is considered to be world's most important global cities and has been called the world's most powerful, most desirable, most influential, most visited, most expensive, sustainable, most investment-friendly, and most popular-for-work city. Considering all these factors, moving into a new neighborhood could prove to be hectic task for any person or family. Also, with a big city like London comes bigger safety conserns. In this project we will be analyzing different neighborhoods based on their safety. Keeping safety as the main concern, we will also look at the accessibility of the neighborhood to bus stations, parks, restaurants, supermarkets, pharmacies, theatre, hospital, airport, etc.\n",
    "\n",
    "As mentioned earlier, the main objective here is to analyze different neighborhoods, to select the safest neighborhood, based on total crimes. We will also explore the safest neighborhood in detail to find the most common venues in the area and cluster the neighborhoods."
   ]
  },
  {
   "cell_type": "code",
   "execution_count": null,
   "metadata": {},
   "outputs": [],
   "source": []
  }
 ],
 "metadata": {
  "kernelspec": {
   "display_name": "Python",
   "language": "python",
   "name": "conda-env-python-py"
  },
  "language_info": {
   "codemirror_mode": {
    "name": "ipython",
    "version": 3
   },
   "file_extension": ".py",
   "mimetype": "text/x-python",
   "name": "python",
   "nbconvert_exporter": "python",
   "pygments_lexer": "ipython3",
   "version": "3.6.10"
  }
 },
 "nbformat": 4,
 "nbformat_minor": 4
}
